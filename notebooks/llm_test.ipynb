{
 "cells": [
  {
   "cell_type": "code",
   "execution_count": 1,
   "metadata": {},
   "outputs": [],
   "source": [
    "# Imports\n",
    "import yaml\n",
    "from openai import OpenAI\n",
    "from transformers import pipeline"
   ]
  },
  {
   "cell_type": "code",
   "execution_count": null,
   "metadata": {},
   "outputs": [
    {
     "name": "stdout",
     "output_type": "stream",
     "text": [
      "In this Blackjack scenario, you have a **hard 13** (Queen + Three), and the dealer's upcard is a **9**. According to **basic strategy**:  \n",
      "\n",
      "- **When your hand is 13-16** and the dealer shows **7 through Ace**, the mathematically optimal play is **Hit**.  \n",
      "- Standing on 13 against a dealer's 9 is statistically worse because the dealer is likely to end up with 17+ (they must hit until reaching at least 17).  \n",
      "- While hitting risks busting (especially with many 10-value cards left in the deck), the probability of the dealer beating your 13 outweighs the risk of going over 21.  \n",
      "\n",
      "**Action: Hit** (to improve your hand rather than accept likely defeat by standing).\n"
     ]
    }
   ],
   "source": [
    "# Defining the LLM\n",
    "with open(\"../config.yaml\", \"r\") as file:\n",
    "    config = yaml.safe_load(file)\n",
    "    api_key = config[\"Keys\"][\"DEEPSEEKR1\"]\n",
    "\n",
    "client = OpenAI(\n",
    "    base_url=\"https://openrouter.ai/api/v1\", \n",
    "    api_key=api_key\n",
    ")\n",
    "\n",
    "completion = client.chat.completions.create(\n",
    "  model=\"deepseek/deepseek-r1:free\",\n",
    "  messages=[\n",
    "    {\n",
    "      \"role\": \"user\",\n",
    "      \"content\": \"You are playing BlackJack, the dealer has a 9 of Spades, you have a Queen of Hearts and a Three of Diamonds, availabe actions are Hit and Stand. What is your action?\"\n",
    "    }\n",
    "  ]\n",
    ")\n",
    "\n",
    "print(completion.choices[0].message.content)"
   ]
  },
  {
   "cell_type": "code",
   "execution_count": 5,
   "metadata": {},
   "outputs": [
    {
     "data": {
      "text/plain": [
       "\"Okay, so I'm playing Blackjack and I need to decide whether to Hit or Stand. Let's see what's happening here. The dealer has a 9 of Spades showing, and I have a Queen of Hearts and a Three of Diamonds. That adds up to 13 because Queen is worth 10 and the Three is 3, right? So my total is 13. \\n\\nHmm, I remember that in Blackjack, the basic strategy suggests certain actions based on your hand and the dealer's upcard. Let me try to recall. If the dealer's upcard is a 9, 10, or Ace, you're supposed to be more aggressive because the dealer has a higher chance of having a strong hand. \\n\\nWait, with a hard 13 (since I don't have an Ace making it a soft hand), what do you do against a dealer's 9? I think the basic strategy says if you have a hard 13-16 and the dealer has a 7 or higher, you should hit. Because if you stand, the dealer is likely to have a higher total and you'll lose. But if you hit, even though there's a risk of busting, maybe you can improve your hand.\\n\\nBut wait, what if I hit and get a card that makes me go over 21? Let's see. If I have 13, any card 8 or lower will keep me at 21 or under, but 9 or higher will bust me. But the chances of getting a 9, 10, Jack, Queen, King (which are all 10-value cards) are quite high since there are 16 cards worth 10 in a deck. That's like almost a third of the deck, right? So there's a significant chance I could bust.\\n\\nBut basic strategy is based on statistical probabilities. Maybe it's still better to hit because standing on 13 against a dealer's 9 is more likely to lose. The dealer will have to hit until they reach 17 or higher. So dealer has 9 showing. Their hole card could be something below 8, but even if they have a 10, they have 19. If they have a 9, it's 18. If they have a 7, it's 16, then they'll hit again. So dealer's chances of ending up with 17 or higher are high. So me standing on 13 is probably worse than risking a hit.\\n\\nSo I think according to basic strategy, the correct move is to Hit here. I need to improve my hand. Even though there's a risk of busting, statistically hitting gives a better chance than standing.\\n\""
      ]
     },
     "execution_count": 5,
     "metadata": {},
     "output_type": "execute_result"
    }
   ],
   "source": [
    "completion.choices[0].message.reasoning"
   ]
  }
 ],
 "metadata": {
  "kernelspec": {
   "display_name": ".venv",
   "language": "python",
   "name": "python3"
  },
  "language_info": {
   "codemirror_mode": {
    "name": "ipython",
    "version": 3
   },
   "file_extension": ".py",
   "mimetype": "text/x-python",
   "name": "python",
   "nbconvert_exporter": "python",
   "pygments_lexer": "ipython3",
   "version": "3.11.10"
  }
 },
 "nbformat": 4,
 "nbformat_minor": 4
}
