{
 "cells": [
  {
   "cell_type": "code",
   "execution_count": 1,
   "metadata": {},
   "outputs": [],
   "source": [
    "# Imports\n",
    "import yaml\n",
    "from openai import OpenAI\n",
    "from transformers import pipeline"
   ]
  },
  {
   "cell_type": "code",
   "execution_count": null,
   "metadata": {},
   "outputs": [],
   "source": [
    "# Defining the LLM\n",
    "with open(\"../config.yaml\", \"r\") as file:\n",
    "    config = yaml.safe_load(file)\n",
    "    api_key = config[\"Keys\"][\"DEEPSEEKR1\"]\n",
    "\n",
    "client = OpenAI(\n",
    "    base_url=\"https://openrouter.ai/api/v1\", \n",
    "    api_key=api_key\n",
    ")\n",
    "\n",
    "completion = client.chat.completions.create(\n",
    "  model=\"deepseek/deepseek-r1:free\",\n",
    "  messages=[\n",
    "    {\n",
    "      \"role\": \"user\",\n",
    "      \"content\": \"You are playing BlackJack, the dealer has a 7 of Spades, you have a Queen of Hearts and a Two of Diamonds, availabe actions are Hit and Stand. What is your action?\"\n",
    "    }\n",
    "  ]\n",
    ")\n",
    "\n",
    "print(completion.choices[0].message.content)"
   ]
  },
  {
   "cell_type": "code",
   "execution_count": 25,
   "metadata": {},
   "outputs": [
    {
     "data": {
      "text/plain": [
       "\"Alright, so I'm trying to figure out whether I should hit or stand in this Blackjack situation. Let me start by recalling the basic rules and strategies for Blackjack. I know that the goal is to get a hand value closer to 21 than the dealer without going over. The dealer is showing a 7 of Spades, and my hand is Queen of Hearts and Two of Diamonds. Let's break this down.\\n\\nFirst, let me calculate my current total. The Queen is worth 10, and the Two is worth 2, so I have 12. In Blackjack, the dealer's upcard is a 7. From what I remember, basic strategy often depends on the dealer's upcard and your own hand total. \\n\\nThe dealer has a 7, which is considered a relatively strong card because there's a higher chance they'll end up with a hand between 17 and 21. When the dealer's upcard is 7 through Ace, they're more likely to make a strong hand, so the player should usually be more cautious. But since my hand is 12, which is a tricky total because any card over 9 will bust me. \\n\\nNow, basic strategy charts are usually the go-to here. From what I remember, for a hard 12 against a dealer's 7, the correct move is to hit. Let me confirm that. Basic strategy says that if the dealer shows a 7 or higher, and your hand is between 12 and 16, you should hit because the chances are higher that the dealer will end up with a stronger hand, so you need to try to improve your own hand despite the risk of busting. \\n\\nStanding on 12 is generally not recommended unless the dealer has a 4, 5, or 6, where they are more likely to bust. But here, dealer has 7, so standing on 12 would be bad because the dealer is likely to make a hand of 17 or better. If I stand, I might lose if the dealer doesn't bust. Hitting gives me a chance to get a better hand, though there's a risk. Let me calculate the probability of busting if I hit. \\n\\nWith a 12, the cards that can make me bust are 10, J, Q, K (which are each worth 10). There are 16 cards worth 10 in a deck (4 each of 10, J, Q, K). Assuming a standard 52-card deck and depending on what's already been dealt, but we don't have that info. If we consider the remaining decks, typically in Blackjack, several decks are used, but calculations often approximate. If using a single deck, we have two cards in my hand (Queen and 2) and the dealer's 7. So three known cards. The remaining deck has 49 cards. Out of these, 16 are 10-value cards, but we've already taken one Queen and one 2, so the number of 10s left would be 15 (assuming single deck). So, 15 out of 49 cards would bust me. 15/49 is approximately 30.6% chance of busting. That leaves about 69.4% chance of getting a card that's 9 or lower, which would give me a hand between 13 and 21. But even if I don't bust, getting to a higher total (like 17-19) would still give me a chance. However, if I hit and get a low card, say a 5, I'd have 17 and then stand. But the dealer might still beat me. \\n\\nAnother way to look at it: the dealer's upcard is 7. The dealer must hit until they reach 17 or higher. The probability that the dealer will bust with a 7 is not as high as if they had a 5 or 6. Wait, actually, when the dealer has a 7, their chance of busting is lower compared to 4,5,6. Let me check that. I think the probabilities of dealer busting with different upcards are something like: 2: 35%, 3: 37%, 4: 40%, 5: 42%, 6: 42%, 7: 26%, 8:24%, 9:23%, 10:23%, Ace: 17%. So with a 7, the dealer has about a 26% chance to bust. So if I stand on 12, I have to hope the dealer busts, which is 26% chance. Meanwhile, if I hit, my chance of busting is 30.6%, but if I don't bust, I might get a hand that can beat the dealer. \\n\\nBut even if I get, say, a 3, making my total 15, then the dealer still has a higher chance of making a hand. Wait, but if I hit and improve my hand to 17, then the dealer has to hit until they reach 17. If the dealer's total is 7, their chance of making 17-21 is higher, so my 17 might end up tying or losing. \\n\\nBut the question is whether hitting gives me a better chance than standing. Let's see. If I stand, my chance of winning is only if the dealer busts (26%). If I hit, I have a 69.4% chance of not busting, but even then, not sure what my total would be. For example, if I get a 9, that makes 21, which is great. But if I get a 5-8, I have a higher total which might still be less than the dealer's possible total. \\n\\nAlternatively, following basic strategy, which is based on mathematical calculations considering all possibilities, the correct play is to hit. Basic strategy for hard 12 against a dealer 7: Hit. So even though the bust chance is high, it's statistically better to hit than to stand. \\n\\nWait, let me make sure I'm not confusing hard and soft hands. A hard 12 is when there's no Ace in the hand, which this is the case here (Queen and Two). Yes, basic strategy for hard 12 vs 7 is to hit. If the dealer's upcard is 2 or 3, some strategies might say to hit as well, but I think the key is when the dealer has a 7, you should hit. \\n\\nThere's also the consideration of how many decks are in play. If it's a single deck or multiple decks, but basic strategy usually accounts for that. In multiple decks, the strategy might slightly or not, but generally, for this purpose, I think the basic strategy remains the same. \\n\\nSo putting it all together: My hand is 12 vs dealer 7. Basic strategy says hit. The logic is that standing gives the dealer a higher chance to make a hand (since 7 is a strong upcard), so even with the risk of busting, hitting is the better option. Therefore, I should choose to Hit.\\n\""
      ]
     },
     "execution_count": 25,
     "metadata": {},
     "output_type": "execute_result"
    }
   ],
   "source": [
    "completion.choices[0].message.reasoning"
   ]
  },
  {
   "cell_type": "code",
   "execution_count": 4,
   "metadata": {},
   "outputs": [
    {
     "name": "stdout",
     "output_type": "stream",
     "text": [
      "In this Blackjack scenario, you have a **hard 13** (Queen + Three), and the dealer's upcard is a **9**. According to **basic strategy**:  \n",
      "\n",
      "- **When your hand is 13-16** and the dealer shows **7 through Ace**, the mathematically optimal play is **Hit**.  \n",
      "- Standing on 13 against a dealer's 9 is statistically worse because the dealer is likely to end up with 17+ (they must hit until reaching at least 17).  \n",
      "- While hitting risks busting (especially with many 10-value cards left in the deck), the probability of the dealer beating your 13 outweighs the risk of going over 21.  \n",
      "\n",
      "**Action: Hit** (to improve your hand rather than accept likely defeat by standing).\n"
     ]
    }
   ],
   "source": [
    "# Defining the LLM\n",
    "with open(\"/Users/fitter0happier/Desktop/Coding/NLP/21Mind/config.yaml\", \"r\") as file:\n",
    "    config = yaml.safe_load(file)\n",
    "    api_key = config[\"Keys\"][\"DEEPSEEKR1\"]\n",
    "\n",
    "client = OpenAI(\n",
    "    base_url=\"https://openrouter.ai/api/v1\", \n",
    "    api_key=api_key\n",
    ")\n",
    "\n",
    "completion = client.chat.completions.create(\n",
    "  model=\"deepseek/deepseek-r1:free\",\n",
    "  messages=[\n",
    "    {\n",
    "      \"role\": \"user\",\n",
    "      \"content\": \"You are playing BlackJack, the dealer has a 9 of Spades, you have a Queen of Hearts and a Three of Diamonds, availabe actions are Hit and Stand. What is your action?\"\n",
    "    }\n",
    "  ]\n",
    ")\n",
    "\n",
    "print(completion.choices[0].message.content)"
   ]
  },
  {
   "cell_type": "code",
   "execution_count": 5,
   "metadata": {},
   "outputs": [
    {
     "data": {
      "text/plain": [
       "\"Okay, so I'm playing Blackjack and I need to decide whether to Hit or Stand. Let's see what's happening here. The dealer has a 9 of Spades showing, and I have a Queen of Hearts and a Three of Diamonds. That adds up to 13 because Queen is worth 10 and the Three is 3, right? So my total is 13. \\n\\nHmm, I remember that in Blackjack, the basic strategy suggests certain actions based on your hand and the dealer's upcard. Let me try to recall. If the dealer's upcard is a 9, 10, or Ace, you're supposed to be more aggressive because the dealer has a higher chance of having a strong hand. \\n\\nWait, with a hard 13 (since I don't have an Ace making it a soft hand), what do you do against a dealer's 9? I think the basic strategy says if you have a hard 13-16 and the dealer has a 7 or higher, you should hit. Because if you stand, the dealer is likely to have a higher total and you'll lose. But if you hit, even though there's a risk of busting, maybe you can improve your hand.\\n\\nBut wait, what if I hit and get a card that makes me go over 21? Let's see. If I have 13, any card 8 or lower will keep me at 21 or under, but 9 or higher will bust me. But the chances of getting a 9, 10, Jack, Queen, King (which are all 10-value cards) are quite high since there are 16 cards worth 10 in a deck. That's like almost a third of the deck, right? So there's a significant chance I could bust.\\n\\nBut basic strategy is based on statistical probabilities. Maybe it's still better to hit because standing on 13 against a dealer's 9 is more likely to lose. The dealer will have to hit until they reach 17 or higher. So dealer has 9 showing. Their hole card could be something below 8, but even if they have a 10, they have 19. If they have a 9, it's 18. If they have a 7, it's 16, then they'll hit again. So dealer's chances of ending up with 17 or higher are high. So me standing on 13 is probably worse than risking a hit.\\n\\nSo I think according to basic strategy, the correct move is to Hit here. I need to improve my hand. Even though there's a risk of busting, statistically hitting gives a better chance than standing.\\n\""
      ]
     },
     "execution_count": 5,
     "metadata": {},
     "output_type": "execute_result"
    }
   ],
   "source": [
    "completion.choices[0].message.reasoning"
   ]
  }
 ],
 "metadata": {
  "kernelspec": {
   "display_name": "Python 3 (ipykernel)",
   "language": "python",
   "name": "python3"
  },
  "language_info": {
   "codemirror_mode": {
    "name": "ipython",
    "version": 3
   },
   "file_extension": ".py",
   "mimetype": "text/x-python",
   "name": "python",
   "nbconvert_exporter": "python",
   "pygments_lexer": "ipython3",
   "version": "3.11.5"
  }
 },
 "nbformat": 4,
 "nbformat_minor": 4
}
