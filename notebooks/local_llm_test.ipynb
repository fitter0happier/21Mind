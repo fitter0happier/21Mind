{
 "cells": [
  {
   "cell_type": "code",
   "execution_count": null,
   "metadata": {},
   "outputs": [],
   "source": [
    "# Imports\n",
    "import requests\n",
    "import yaml"
   ]
  },
  {
   "cell_type": "code",
   "execution_count": 52,
   "metadata": {},
   "outputs": [],
   "source": [
    "# Reading config\n",
    "with open(\"/Users/fitter0happier/Desktop/Coding/NLP/21Mind/config.yaml\", \"r\") as file:\n",
    "    config = yaml.safe_load(file)\n",
    "    address = config[\"Providers\"][\"DEEPSEEKLOCAL\"]"
   ]
  },
  {
   "cell_type": "code",
   "execution_count": 53,
   "metadata": {},
   "outputs": [],
   "source": [
    "# Defining API calls\n",
    "test = \"/v1/models\"\n",
    "completions = \"/v1/chat/completions\""
   ]
  },
  {
   "cell_type": "code",
   "execution_count": 54,
   "metadata": {},
   "outputs": [
    {
     "data": {
      "text/plain": [
       "b'{\\n  \"data\": [\\n    {\\n      \"id\": \"deepseek-r1-distill-qwen-7b\",\\n      \"object\": \"model\",\\n      \"owned_by\": \"organization_owner\"\\n    },\\n    {\\n      \"id\": \"text-embedding-nomic-embed-text-v1.5\",\\n      \"object\": \"model\",\\n      \"owned_by\": \"organization_owner\"\\n    }\\n  ],\\n  \"object\": \"list\"\\n}'"
      ]
     },
     "execution_count": 54,
     "metadata": {},
     "output_type": "execute_result"
    }
   ],
   "source": [
    "# Testing\n",
    "x = requests.get(address + test)\n",
    "x.content"
   ]
  },
  {
   "cell_type": "code",
   "execution_count": 55,
   "metadata": {},
   "outputs": [],
   "source": [
    "# DeepSeek R1 Qwen model\n",
    "class DEEPSEEKR1QWEN:\n",
    "    def __init__(self) -> None:\n",
    "        with open(\"/Users/fitter0happier/Desktop/Coding/NLP/21Mind/config.yaml\", \"r\") as file:\n",
    "            config = yaml.safe_load(file)\n",
    "\n",
    "        self.base_url = config[\"Providers\"][\"DEEPSEEKLOCAL\"]\n",
    "        self.model = config[\"IDs\"][\"DEEPSEEKR1QWEN\"]\n",
    "        self.completions = \"/v1/chat/completions\"\n",
    "\n",
    "    def response(self, mes):\n",
    "        headers = {\n",
    "            \"Content-Type\": \"application/json\"\n",
    "        }\n",
    "        data = {\n",
    "            \"model\": self.model,\n",
    "            \"messages\": mes,\n",
    "            \"temperature\": 0.6,\n",
    "            \"max_tokens\": -1,\n",
    "            \"stream\": False\n",
    "        }\n",
    "\n",
    "        response = requests.post(self.base_url+self.completions, headers=headers, json=data).json()\n",
    "        return response['choices'][0]['message']['content']"
   ]
  },
  {
   "cell_type": "code",
   "execution_count": null,
   "metadata": {},
   "outputs": [
    {
     "ename": "AttributeError",
     "evalue": "'str' object has no attribute 'json'",
     "output_type": "error",
     "traceback": [
      "\u001b[31m---------------------------------------------------------------------------\u001b[39m",
      "\u001b[31mAttributeError\u001b[39m                            Traceback (most recent call last)",
      "\u001b[36mCell\u001b[39m\u001b[36m \u001b[39m\u001b[32mIn[56]\u001b[39m\u001b[32m, line 15\u001b[39m\n\u001b[32m      2\u001b[39m llm = DEEPSEEKR1QWEN()\n\u001b[32m      3\u001b[39m message=[\n\u001b[32m      4\u001b[39m     {\n\u001b[32m      5\u001b[39m       \u001b[33m\"\u001b[39m\u001b[33mrole\u001b[39m\u001b[33m\"\u001b[39m: \u001b[33m\"\u001b[39m\u001b[33muser\u001b[39m\u001b[33m\"\u001b[39m,\n\u001b[32m   (...)\u001b[39m\u001b[32m     12\u001b[39m     }\n\u001b[32m     13\u001b[39m ]\n\u001b[32m---> \u001b[39m\u001b[32m15\u001b[39m response = \u001b[43mllm\u001b[49m\u001b[43m.\u001b[49m\u001b[43mresponse\u001b[49m\u001b[43m(\u001b[49m\u001b[43mmessage\u001b[49m\u001b[43m)\u001b[49m\u001b[43m.\u001b[49m\u001b[43mjson\u001b[49m()\n\u001b[32m     16\u001b[39m \u001b[38;5;28mprint\u001b[39m(response[\u001b[33m'\u001b[39m\u001b[33mchoices\u001b[39m\u001b[33m'\u001b[39m][\u001b[32m0\u001b[39m][\u001b[33m'\u001b[39m\u001b[33mmessage\u001b[39m\u001b[33m'\u001b[39m][\u001b[33m'\u001b[39m\u001b[33mcontent\u001b[39m\u001b[33m'\u001b[39m])\n",
      "\u001b[31mAttributeError\u001b[39m: 'str' object has no attribute 'json'"
     ]
    }
   ],
   "source": [
    "# Test response\n",
    "llm = DEEPSEEKR1QWEN()\n",
    "message=[\n",
    "    {\n",
    "      \"role\": \"user\",\n",
    "      \"content\": \"\"\"\n",
    "        You are playing BlackJack, the dealer has a 7 of Spades, \n",
    "        you have a Queen of Hearts and a Two of Diamonds, \n",
    "        availabe actions are Hit and Stand. \n",
    "        What is your action? \n",
    "      \"\"\"\n",
    "    }\n",
    "]\n",
    "\n",
    "response = llm.response(message)"
   ]
  },
  {
   "cell_type": "code",
   "execution_count": 57,
   "metadata": {},
   "outputs": [
    {
     "name": "stdout",
     "output_type": "stream",
     "text": [
      "{'id': 'chatcmpl-9p4nshb7vpsvv13zrhczis', 'object': 'chat.completion', 'created': 1741783703, 'model': 'deepseek-r1-distill-qwen-7b', 'choices': [{'index': 0, 'logprobs': None, 'finish_reason': 'stop', 'message': {'role': 'assistant', 'content': \"<think>\\nOkay, so I'm trying to figure out whether to hit or stand in this Blackjack situation. The dealer has a 7 of Spades, which means the dealer's upcard is a 7. That tells me that the dealer needs one more card to reach their hand total because they can only show one card face up after the initial deal.\\n\\nNow, looking at my hand: I have a Queen of Hearts and a Two of Diamonds. The Queen is worth 10 points, and the Two is just 2, so altogether I'm at 12. In Blackjack, having an Ace is super valuable because it can be counted as 11 or 1, depending on what's best for the player.\\n\\nBut wait, do I have an Ace? No, my cards are Queen and Two, so no Aces here. That means my current total is exactly 12. I remember that in Blackjack, a hand total of 12 is considered pretty safe because it's not too high but also gives me some flexibility without busting easily.\\n\\nThe dealer showing a 7 means they might end up with a higher total than mine if they hit once or twice. If the dealer hits and draws another card, say a King or an Ace, their total could go way over 21. But since I have exactly 12, hitting would risk going to 13, which is still safe but closer to the dealer's possible totals.\\n\\nAlso, considering that my hand doesn't have any soft points (no Aces), I don't need to worry about busting if I hit and get a high card. So standing seems like the safer choice here because it keeps me at 12, which is a solid total without overhanging too much risk.\\n\\nI should also think about the dealer's strategy. If they have a soft point (like an Ace), they might hit more often to try to get closer to 17 or 19, but in this case, since the dealer has a 7 and I don't have any Aces, it's less likely that hitting will give them an advantage.\\n\\nSo, putting it all together: My hand is safe at 12. The dealer's upcard suggests they might get to around 17-19 if they hit once or twice, so standing seems like the best move for me.\\n</think>\\n\\nThe optimal action in this situation is to **Stand**. Here's why:\\n\\n1. Your current hand consists of a Queen (10 points) and a Two (2 points), totaling 12.\\n\\n2. The dealer's upcard is a 7, which suggests they might draw additional cards to reach closer to 19 without busting.\\n\\n3. Since your total is exactly 12, hitting would increase it to 13 or more, raising the risk of busting (as there are no soft points like Aces in your hand).\\n\\n4. The dealer's strategy with a 7 lean towards drawing cards, but given that you have a moderate total and no Aces, standing is safer.\\n\\n5. Therefore, staying at 12 is a conservative yet prudent decision to avoid potential busting risks while keeping the game in your favor.\"}}], 'usage': {'prompt_tokens': 60, 'completion_tokens': 663, 'total_tokens': 723}, 'stats': {}, 'system_fingerprint': 'deepseek-r1-distill-qwen-7b'}\n"
     ]
    }
   ],
   "source": [
    "print(response)"
   ]
  }
 ],
 "metadata": {
  "kernelspec": {
   "display_name": ".venv",
   "language": "python",
   "name": "python3"
  },
  "language_info": {
   "codemirror_mode": {
    "name": "ipython",
    "version": 3
   },
   "file_extension": ".py",
   "mimetype": "text/x-python",
   "name": "python",
   "nbconvert_exporter": "python",
   "pygments_lexer": "ipython3",
   "version": "3.11.10"
  }
 },
 "nbformat": 4,
 "nbformat_minor": 2
}
