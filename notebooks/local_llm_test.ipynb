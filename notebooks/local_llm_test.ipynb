{
 "cells": [
  {
   "cell_type": "code",
   "execution_count": 1,
   "metadata": {},
   "outputs": [],
   "source": [
    "# Imports\n",
    "import torch\n",
    "\n",
    "from transformers import AutoTokenizer, AutoModelForCausalLM"
   ]
  },
  {
   "cell_type": "code",
   "execution_count": null,
   "metadata": {},
   "outputs": [],
   "source": [
    "# DeepSeek R1 Qwen model\n",
    "class DEEPSEEKR1QWEN:\n",
    "    def __init__(self) -> None:\n",
    "        self.tokenizer = AutoTokenizer.from_pretrained(\"deepseek-ai/DeepSeek-R1-Distill-Qwen-7B\")        \n",
    "        self.model = AutoModelForCausalLM.from_pretrained(\"deepseek-ai/DeepSeek-R1-Distill-Qwen-7B\", \n",
    "                                                          device_map=\"auto\", \n",
    "                                                          torch_dtype=torch.bfloat16,\n",
    "                                                          attn_implementation='flash_attention_2') \n",
    "\n",
    "    def response(self, mes):\n",
    "        input_ids = self.tokenizer.apply_chat_template(\n",
    "            mes,\n",
    "            add_generation_prompt=True,  \n",
    "            return_tensors=\"pt\"\n",
    "        ).to(self.model.device)\n",
    "\n",
    "        attention_mask = input_ids.ne(self.tokenizer.pad_token_id).long()\n",
    "\n",
    "        outputs = self.model.generate(\n",
    "            input_ids,\n",
    "            max_new_tokens=10000,  \n",
    "            temperature=0.6,     \n",
    "            attention_mask=attention_mask,\n",
    "            pad_token_id=self.tokenizer.eos_token_id,\n",
    "            eos_token_id=self.tokenizer.eos_token_id \n",
    "        )\n",
    "\n",
    "        generated_ids = outputs[:, input_ids.shape[1]:]\n",
    "        response = self.tokenizer.decode(generated_ids[0], skip_special_tokens=True)\n",
    "\n",
    "        return response"
   ]
  },
  {
   "cell_type": "code",
   "execution_count": 2,
   "metadata": {},
   "outputs": [],
   "source": [
    "class QWQ32B:\n",
    "    def __init__(self) -> None:\n",
    "        self.tokenizer = AutoTokenizer.from_pretrained(\"Qwen/QwQ-32B\")        \n",
    "        self.model = AutoModelForCausalLM.from_pretrained(\"Qwen/QwQ-32B\", \n",
    "                                                          device_map=\"auto\", \n",
    "                                                          torch_dtype=\"auto\") \n",
    "\n",
    "    def response(self, mes):\n",
    "        text = self.tokenizer.apply_chat_template(\n",
    "            mes,\n",
    "            tokenize=False,\n",
    "            add_generation_prompt=True\n",
    "        )\n",
    "\n",
    "        model_inputs = self.tokenizer([text], return_tensors=\"pt\").to(self.model.device)\n",
    "\n",
    "        generated_ids = self.model.generate(\n",
    "            **model_inputs,\n",
    "            max_new_tokens=32768,\n",
    "            temperature=0.6,     # Controls randomness (higher = more random)\n",
    "            top_p=0.95,          # Nucleus sampling (higher = more diverse)\n",
    "            top_k=40            # Limits token selection to top-k\n",
    "            # presence_penalty=1.5 # Discourages repetition\n",
    "        )\n",
    "        \n",
    "        generated_ids = [\n",
    "            output_ids[len(input_ids):] for input_ids, output_ids in zip(model_inputs.input_ids, generated_ids)\n",
    "        ]\n",
    "\n",
    "        response = self.tokenizer.batch_decode(generated_ids, skip_special_tokens=True)[0]\n",
    "\n",
    "        return response"
   ]
  },
  {
   "cell_type": "code",
   "execution_count": 3,
   "metadata": {},
   "outputs": [],
   "source": [
    "message=[\n",
    "    {\n",
    "      \"role\": \"user\",\n",
    "      \"content\": \"You are playing BlackJack, the dealer has a 9 of Spades, you have a Queen of Hearts and a Three of Diamonds, availabe actions are Hit and Stand. What is your action?\"\n",
    "    }\n",
    "]"
   ]
  },
  {
   "cell_type": "code",
   "execution_count": null,
   "metadata": {},
   "outputs": [],
   "source": [
    "llm = DEEPSEEKR1QWEN()\n",
    "response = llm.response(message)"
   ]
  },
  {
   "cell_type": "code",
   "execution_count": 10,
   "metadata": {},
   "outputs": [
    {
     "name": "stdout",
     "output_type": "stream",
     "text": [
      "Okay, so I'm playing BlackJack against the dealer who has a 9 of Spades. My hand consists of a Queen of Hearts and a Three of Diamonds. I need to decide whether to hit or stand. Let me think through this step by step.\n",
      "\n",
      "First, I should figure out the current state of the game. I have a Queen and a Three. In Blackjack, the goal is to get as close to 21 as possible without going over. So, with a Queen (12 points) and a Three (3 points), I have 15 points total. That's not too bad, but I need to consider the dealer's hand.\n",
      "\n",
      "The dealer has a 9 of Spades, which is a high card, so they're probably using it to get a strong hand. I need to see if I can improve my hand or if I should bust.\n",
      "\n",
      "If I hit, I risk getting another card that could push me over 21. Let's see what's available. I don't have any other cards, so I can't hit. Wait, no, I have two cards, but the action is only hit or stand. So, I can't hit because there are no more cards. Therefore, I must stand.\n",
      "\n",
      "Wait, but maybe I should check if I have any aces, which can help with soft hands. In Blackjack, soft hands are when you have a 10-value card and an Ace, which can give you a better hand. My hand is a Queen and a Three, so no aces. The dealer has a 9, which is a soft 9, meaning they can take another card to make 10, but I can't take any cards because I don't have any left.\n",
      "\n",
      "So, I don't have a soft hand, which is good because it means I can't automatically win if the dealer busts. The dealer's 9 can be counted as a 9 or 10, which is a strong hand. My hand is a 12 and a 3, totaling 15. If I hit, I risk busting unless I get an Ace, which I don't. So, I should stand.\n",
      "\n",
      "I think the dealer's 9 is strong, and since I don't have a soft hand, I can't improve my hand with a hit. So, I should stand and take the dealer's 9.\n",
      "</think>\n",
      "\n",
      "In this BlackJack scenario, you have a Queen of Hearts and a Three of Diamonds, totaling 15 points. The dealer has a 9 of Spades, a strong soft 9. Since you don't have an Ace and you can't hit (no remaining cards), you must stand. The dealer's 9 is advantageous, and your hand can't improve without an Ace. Therefore, you stand.\n",
      "\n",
      "**Action:** Stand\n"
     ]
    }
   ],
   "source": [
    "print(response)"
   ]
  }
 ],
 "metadata": {
  "kernelspec": {
   "display_name": ".venv",
   "language": "python",
   "name": "python3"
  },
  "language_info": {
   "codemirror_mode": {
    "name": "ipython",
    "version": 3
   },
   "file_extension": ".py",
   "mimetype": "text/x-python",
   "name": "python",
   "nbconvert_exporter": "python",
   "pygments_lexer": "ipython3",
   "version": "3.12.1"
  }
 },
 "nbformat": 4,
 "nbformat_minor": 4
}
