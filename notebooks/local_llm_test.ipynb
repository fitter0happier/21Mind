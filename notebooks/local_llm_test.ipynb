{
 "cells": [
  {
   "cell_type": "code",
   "execution_count": 6,
   "metadata": {},
   "outputs": [],
   "source": [
    "# Imports\n",
    "import requests\n",
    "import yaml\n",
    "\n",
    "from transformers import AutoTokenizer, AutoModelForCausalLM"
   ]
  },
  {
   "cell_type": "code",
   "execution_count": 3,
   "metadata": {},
   "outputs": [],
   "source": [
    "# Reading config\n",
    "with open(\"../config.yaml\", \"r\") as file:\n",
    "    config = yaml.safe_load(file)\n",
    "    address = config[\"Providers\"][\"DEEPSEEKLOCAL\"]"
   ]
  },
  {
   "cell_type": "code",
   "execution_count": 53,
   "metadata": {},
   "outputs": [],
   "source": [
    "# Defining API calls\n",
    "test = \"/v1/models\"\n",
    "completions = \"/v1/chat/completions\""
   ]
  },
  {
   "cell_type": "code",
   "execution_count": 54,
   "metadata": {},
   "outputs": [
    {
     "data": {
      "text/plain": [
       "b'{\\n  \"data\": [\\n    {\\n      \"id\": \"deepseek-r1-distill-qwen-7b\",\\n      \"object\": \"model\",\\n      \"owned_by\": \"organization_owner\"\\n    },\\n    {\\n      \"id\": \"text-embedding-nomic-embed-text-v1.5\",\\n      \"object\": \"model\",\\n      \"owned_by\": \"organization_owner\"\\n    }\\n  ],\\n  \"object\": \"list\"\\n}'"
      ]
     },
     "execution_count": 54,
     "metadata": {},
     "output_type": "execute_result"
    }
   ],
   "source": [
    "# Testing\n",
    "x = requests.get(address + test)\n",
    "x.content"
   ]
  },
  {
   "cell_type": "code",
   "execution_count": 55,
   "metadata": {},
   "outputs": [],
   "source": [
    "# DeepSeek R1 Qwen model\n",
    "class DEEPSEEKR1QWEN:\n",
    "    def __init__(self) -> None:\n",
    "        with open(\"/Users/fitter0happier/Desktop/Coding/NLP/21Mind/config.yaml\", \"r\") as file:\n",
    "            config = yaml.safe_load(file)\n",
    "\n",
    "        self.base_url = config[\"Providers\"][\"DEEPSEEKLOCAL\"]\n",
    "        self.model = config[\"IDs\"][\"DEEPSEEKR1QWEN\"]\n",
    "        self.completions = \"/v1/chat/completions\"\n",
    "\n",
    "    def response(self, mes):\n",
    "        headers = {\n",
    "            \"Content-Type\": \"application/json\"\n",
    "        }\n",
    "        data = {\n",
    "            \"model\": self.model,\n",
    "            \"messages\": mes,\n",
    "            \"temperature\": 0.6,\n",
    "            \"max_tokens\": -1,\n",
    "            \"stream\": False\n",
    "        }\n",
    "\n",
    "        response = requests.post(self.base_url+self.completions, headers=headers, json=data).json()\n",
    "        return response['choices'][0]['message']['content']"
   ]
  },
  {
   "cell_type": "code",
   "execution_count": 11,
   "metadata": {},
   "outputs": [],
   "source": [
    "message=[\n",
    "    {\n",
    "      \"role\": \"user\",\n",
    "      \"content\": \"\"\"\n",
    "        You are playing BlackJack, the dealer has a 7 of Spades, \n",
    "        you have a Queen of Hearts and a Two of Diamonds, \n",
    "        availabe actions are Hit and Stand. \n",
    "        What is your action? \n",
    "      \"\"\"\n",
    "    }\n",
    "]"
   ]
  },
  {
   "cell_type": "code",
   "execution_count": 8,
   "metadata": {},
   "outputs": [
    {
     "data": {
      "application/vnd.jupyter.widget-view+json": {
       "model_id": "3c7aa94e35c24b798a1ca4582363e860",
       "version_major": 2,
       "version_minor": 0
      },
      "text/plain": [
       "Loading checkpoint shards:   0%|          | 0/2 [00:00<?, ?it/s]"
      ]
     },
     "metadata": {},
     "output_type": "display_data"
    }
   ],
   "source": [
    "tokenizer = AutoTokenizer.from_pretrained(\"deepseek-ai/DeepSeek-R1-Distill-Qwen-7B\")\n",
    "model = AutoModelForCausalLM.from_pretrained(\"deepseek-ai/DeepSeek-R1-Distill-Qwen-7B\", device_map=\"auto\")  # Automatically uses GPU if available"
   ]
  },
  {
   "cell_type": "code",
   "execution_count": 12,
   "metadata": {},
   "outputs": [],
   "source": [
    "input_ids = tokenizer.apply_chat_template(\n",
    "    message,\n",
    "    add_generation_prompt=True,  # Adds the assistant's start token to trigger generation\n",
    "    return_tensors=\"pt\"\n",
    ").to(model.device)"
   ]
  },
  {
   "cell_type": "code",
   "execution_count": 14,
   "metadata": {},
   "outputs": [
    {
     "name": "stderr",
     "output_type": "stream",
     "text": [
      "The attention mask and the pad token id were not set. As a consequence, you may observe unexpected behavior. Please pass your input's `attention_mask` to obtain reliable results.\n",
      "Setting `pad_token_id` to `eos_token_id`:151643 for open-end generation.\n",
      "The attention mask is not set and cannot be inferred from input because pad token is same as eos token. As a consequence, you may observe unexpected behavior. Please pass your input's `attention_mask` to obtain reliable results.\n"
     ]
    }
   ],
   "source": [
    "outputs = model.generate(\n",
    "    input_ids,\n",
    "    max_new_tokens=10000,  # Controls the maximum length of the generated text\n",
    "    temperature=0.6,     # Lower temperature for more deterministic outputs\n",
    "    top_p=0.9,           # Nucleus sampling: chooses from the top p probability mass\n",
    "    eos_token_id=tokenizer.eos_token_id  # Stop generation at the EOS token\n",
    ")"
   ]
  },
  {
   "cell_type": "code",
   "execution_count": 15,
   "metadata": {},
   "outputs": [
    {
     "name": "stdout",
     "output_type": "stream",
     "text": [
      "Okay, so I'm trying to figure out whether to hit or stand in this BlackJack situation. Let me break it down step by step.\n",
      "\n",
      "First, the dealer has a 7 of Spades. That means the dealer's up card is a 7. In Blackjack, the dealer's up card is crucial because it gives the player an idea of what the dealer might be holding. The dealer will hit until they reach at least 17, so knowing their current hand can help decide when to stand.\n",
      "\n",
      "Now, the player has a Queen of Hearts and a Two of Diamonds. Let me add those up. The Queen is 12, and the Two is 2, so that's 14 in total. In Blackjack, 14 is a soft 14 because if you have an Ace, it can count as 11. Wait, no, the player only has a Queen and a Two, so it's just 14. That's a hard 14 because there's no Ace to make it soft.\n",
      "\n",
      "The dealer's 7 is showing, so the dealer's current hand is 7 plus whatever they're holding. The dealer will hit until they reach 17 or more. So, if the dealer's total is below 17, they'll hit. If it's 17 or higher, they'll stand.\n",
      "\n",
      "I'm thinking the dealer's second card could be a low card because they're showing a 7. If the dealer hits, they might get a card that brings their total to 17 or more. But without knowing the dealer's second card, it's a bit tricky. However, in many casinos, the dealer's second card is often a low card like 2, 3, 4, 5, or 6 because they don't want to bust easily. So, if the dealer hits, they could get a 2, making their total 9, which is way below 17, so they'll hit again. That could lead to the dealer potentially going over 21 if they get another high card.\n",
      "\n",
      "On the other hand, if the dealer's second card is a 6, their total would be 13, so they'd hit. If they get a 4, that's 11, so they hit. But if their second card is a 7 or higher, they might already be at 14 or 15, so they might stand.\n",
      "\n",
      "As a player, I have 14, which is pretty low. The dealer has a 7 up, which is also a moderate card. If I hit, I could get another card. The worst case is if I hit and get a 2, making my total 16, and then the dealer might hit again, potentially busting. Alternatively, if I hit and get a higher card, say a 5, making my total 19, I can stand and win. But if I hit and get a low card, like a 3, making it 17, I can stand and tie.\n",
      "\n",
      "Wait, but in my initial thought, I considered that the dealer's second card is likely low, so if the dealer hits, they might go to 9, 11, 13, etc., which would require them to hit again, possibly leading to a bust. So, as a player, I might be better off standing because the dealer could bust if they keep hitting.\n",
      "\n",
      "Alternatively, if I hit, I could improve my hand to 17 or 19, which are good positions. But the risk is that the dealer might bust if they have a low second card.\n",
      "\n",
      "I think the key here is to assess the likelihood of the dealer busting versus the potential gain from hitting. If the dealer is likely to bust, hitting is better. If not, standing is safer.\n",
      "\n",
      "Another angle is that in many casinos, the dealer's second card is often a 6, 5, or 4, which are moderate. If the dealer has a 6, their total is 13, so they hit. If they hit and get a 4, they go to 17 and stand. If they get a 5, they go to 18 and stand. But if they have a 5, they might stand immediately. So, if the dealer's second card is 5, they'll stand at 12 (7 + 5). Wait, no, 7 + 5 is 12, which is below 17, so the dealer would hit again. Hmm, this is getting complicated.\n",
      "\n",
      "Wait, let me clarify. The dealer's up card is 7. The dealer's total is 7 plus their second card. If the second card is 6, the dealer's total is 13, so they hit. If they hit and get a 4, their total becomes 17, so they stand. If they get a 5, it's 18, so they stand. If they get a 3, it's 16, so they hit again. If they get a 2, it's 9, so they hit again. So, depending on the second card, the dealer might hit multiple times.\n",
      "\n",
      "Given that, the dealer's strategy could lead them to hit several times, which might result in a bust if they get high cards. So, as a player, I might be better off standing because the dealer could bust.\n",
      "\n",
      "But wait, the player has 14, which is a pretty low hand. If I hit, I can improve it to 17 or 19, which are strong positions. The risk is that the dealer might bust, but if the dealer is likely to bust, hitting is better.\n",
      "\n",
      "I think the main factor here is the dealer's second card. If it's a low card, the dealer might bust if they hit multiple times. So, the player might decide to stand because the dealer could bust.\n",
      "\n",
      "Alternatively, if the dealer's second card is a 6, their total is 13, so they hit. If they hit and get a 4, they go to 17 and stand. So, in that case, the dealer might not bust unless they get high cards. But it's possible.\n",
      "\n",
      "I'm a bit confused now. Maybe I should look up the standard dealer's hitting strategy. Typically, the dealer hits on soft 17, but in this case, the dealer's up card is 7, which is hard. So, the dealer will hit on any total less than 17. So, if the dealer has 7 plus any card, if their total is less than 17, they hit.\n",
      "\n",
      "So, if the dealer's second card is 6, total is 13, so hit. If they get a 4, total is 17, so stand. If they get a 5, total is 18, so stand. If they get a 3, total is 16, so hit again. If they get a 2, total is 9, so hit again.\n",
      "\n",
      "So, the dealer might hit up to three times if they get multiple low cards. That could lead to a bust. Therefore, as a player, I might be better off standing because the dealer could bust.\n",
      "\n",
      "But wait, the player has 14, which is a soft 14 if they had an Ace, but they don't. So, it's a hard 14. If I hit, I can get to 15, 16, 17, etc. But the dealer could bust if they hit multiple times.\n",
      "\n",
      "Alternatively, if I stand, I have 14, and the dealer might end up with a higher total, but if the dealer busts, I win.\n",
      "\n",
      "I think the best action is to stand because the dealer could bust, and I don't want to risk going over with a hit.\n",
      "</think>\n",
      "\n",
      "In this scenario, the optimal action is to **Stand**. \n",
      "\n",
      "**Reasoning:**\n",
      "- The dealer's up card is a 7, and they will hit until reaching at least 17.\n",
      "- The player has a total of 14 (Queen of Hearts and Two of Diamonds). \n",
      "- If the player hits, they risk busting if they draw a high-value card. However, the dealer, starting with a 7, is more likely to bust if they continue hitting, especially if their second card is low.\n",
      "- Therefore, it's safer for the player to stand, as the dealer's likelihood of busting outweighs the potential gain from improving their hand to 17 or higher.\n"
     ]
    }
   ],
   "source": [
    "generated_ids = outputs[:, input_ids.shape[1]:]\n",
    "response = tokenizer.decode(generated_ids[0], skip_special_tokens=True)\n",
    "\n",
    "print(response)"
   ]
  },
  {
   "cell_type": "code",
   "execution_count": null,
   "metadata": {},
   "outputs": [],
   "source": []
  }
 ],
 "metadata": {
  "kernelspec": {
   "display_name": "Python 3 (ipykernel)",
   "language": "python",
   "name": "python3"
  },
  "language_info": {
   "codemirror_mode": {
    "name": "ipython",
    "version": 3
   },
   "file_extension": ".py",
   "mimetype": "text/x-python",
   "name": "python",
   "nbconvert_exporter": "python",
   "pygments_lexer": "ipython3",
   "version": "3.11.5"
  }
 },
 "nbformat": 4,
 "nbformat_minor": 4
}
