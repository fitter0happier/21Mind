{
 "cells": [
  {
   "cell_type": "code",
   "execution_count": 1,
   "metadata": {},
   "outputs": [],
   "source": [
    "# Imports\n",
    "import requests\n",
    "import yaml\n",
    "\n",
    "from openai import OpenAI"
   ]
  },
  {
   "cell_type": "code",
   "execution_count": 2,
   "metadata": {},
   "outputs": [],
   "source": [
    "# Reading config\n",
    "with open(\"/Users/fitter0happier/Desktop/Coding/NLP/21Mind/config.yaml\", \"r\") as file:\n",
    "    config = yaml.safe_load(file)\n",
    "    address = config[\"Providers\"][\"DEEPSEEKLOCAL\"]"
   ]
  },
  {
   "cell_type": "code",
   "execution_count": 3,
   "metadata": {},
   "outputs": [],
   "source": [
    "# Defining API calls\n",
    "test = \"/v1/models\"\n",
    "completions = \"/v1/chat/completions\""
   ]
  },
  {
   "cell_type": "code",
   "execution_count": 5,
   "metadata": {},
   "outputs": [
    {
     "data": {
      "text/plain": [
       "b'{\\n  \"data\": [\\n    {\\n      \"id\": \"deepseek-r1-distill-qwen-7b\",\\n      \"object\": \"model\",\\n      \"owned_by\": \"organization_owner\"\\n    },\\n    {\\n      \"id\": \"text-embedding-nomic-embed-text-v1.5\",\\n      \"object\": \"model\",\\n      \"owned_by\": \"organization_owner\"\\n    }\\n  ],\\n  \"object\": \"list\"\\n}'"
      ]
     },
     "execution_count": 5,
     "metadata": {},
     "output_type": "execute_result"
    }
   ],
   "source": [
    "# Testing\n",
    "x = requests.get(address + test)\n",
    "x.content"
   ]
  },
  {
   "cell_type": "code",
   "execution_count": 23,
   "metadata": {},
   "outputs": [],
   "source": [
    "# DeepSeek R1 Qwen model\n",
    "class DEEPSEEKR1QWEN:\n",
    "    def __init__(self) -> None:\n",
    "        with open(\"/Users/fitter0happier/Desktop/Coding/NLP/21Mind/config.yaml\", \"r\") as file:\n",
    "            config = yaml.safe_load(file)\n",
    "\n",
    "        self.base_url = config[\"Providers\"][\"DEEPSEEKLOCAL\"]\n",
    "        self.model = config[\"IDs\"][\"DEEPSEEKR1QWEN\"]\n",
    "        self.completions = \"/v1/chat/completions\"\n",
    "\n",
    "    def response(self, mes):\n",
    "        headers = {\n",
    "            \"Content-Type\": \"application/json\"\n",
    "        }\n",
    "        data = {\n",
    "            \"model\": self.model,\n",
    "            \"messages\": mes,\n",
    "            \"temperature\": 0.7,\n",
    "            \"max_tokens\": -1,\n",
    "            \"stream\": False\n",
    "        }\n",
    "\n",
    "        response = requests.post(self.base_url+self.completions, headers=headers, json=data)\n",
    "        return response"
   ]
  },
  {
   "cell_type": "code",
   "execution_count": null,
   "metadata": {},
   "outputs": [],
   "source": [
    "# Test response\n",
    "llm = DEEPSEEKR1QWEN()\n",
    "message=[\n",
    "    {\n",
    "      \"role\": \"user\",\n",
    "      \"content\": \"\"\"\n",
    "        You are playing BlackJack, the dealer has a 7 of Spades, \n",
    "        you have a Queen of Hearts and a Two of Diamonds, \n",
    "        availabe actions are Hit and Stand. \n",
    "        What is your action? Always write \"<response>\\n\" after you are finished reasoning.\n",
    "      \"\"\"\n",
    "    }\n",
    "]\n",
    "\n",
    "response = llm.response(message).json()\n",
    "print(response['choices'][0]['message']['content'])"
   ]
  }
 ],
 "metadata": {
  "kernelspec": {
   "display_name": ".venv",
   "language": "python",
   "name": "python3"
  },
  "language_info": {
   "codemirror_mode": {
    "name": "ipython",
    "version": 3
   },
   "file_extension": ".py",
   "mimetype": "text/x-python",
   "name": "python",
   "nbconvert_exporter": "python",
   "pygments_lexer": "ipython3",
   "version": "3.11.10"
  }
 },
 "nbformat": 4,
 "nbformat_minor": 2
}
