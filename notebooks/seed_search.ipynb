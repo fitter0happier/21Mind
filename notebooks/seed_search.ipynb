{
 "cells": [
  {
   "cell_type": "code",
   "execution_count": 37,
   "metadata": {},
   "outputs": [],
   "source": [
    "# Imports\n",
    "import pandas as pd\n",
    "import random\n",
    "import rlcard\n",
    "\n",
    "from rlcard.agents import RandomAgent"
   ]
  },
  {
   "cell_type": "code",
   "execution_count": 43,
   "metadata": {},
   "outputs": [],
   "source": [
    "# Dictionaty to store found seeds\n",
    "found_seeds = dict()"
   ]
  },
  {
   "cell_type": "code",
   "execution_count": 39,
   "metadata": {},
   "outputs": [],
   "source": [
    "# Random agent to make env run\n",
    "agent = RandomAgent(num_actions=2)"
   ]
  },
  {
   "cell_type": "code",
   "execution_count": null,
   "metadata": {},
   "outputs": [],
   "source": [
    "# Searching for seeds to launch evaluation\n",
    "for i in range(100000):\n",
    "    env = rlcard.make(\"blackjack\", config={\"seed\": i})\n",
    "    env.set_agents([agent])\n",
    "    trajectories, payoffs = env.run(is_training=False)\n",
    "\n",
    "    for j, situation in enumerate(trajectories[0][:1]):\n",
    "        last_hand_value = int(trajectories[0][j]['obs'][0])\n",
    "        if last_hand_value <= 27 and last_hand_value >= 8:\n",
    "            dealer_value = int(trajectories[0][j]['obs'][1]) \n",
    "            if (last_hand_value, dealer_value) not in found_seeds.keys():\n",
    "                found_seeds[(last_hand_value, dealer_value)] = [i]\n",
    "            elif len(found_seeds[(last_hand_value, dealer_value)]) < 10:\n",
    "                found_seeds[(last_hand_value, dealer_value)].append(i)"
   ]
  },
  {
   "cell_type": "code",
   "execution_count": null,
   "metadata": {},
   "outputs": [],
   "source": [
    "# Check the dict\n",
    "print(sorted(found_seeds.items()))\n",
    "df = pd.DataFrame(found_seeds)\n",
    "df.head()"
   ]
  }
 ],
 "metadata": {
  "kernelspec": {
   "display_name": ".venv",
   "language": "python",
   "name": "python3"
  },
  "language_info": {
   "codemirror_mode": {
    "name": "ipython",
    "version": 3
   },
   "file_extension": ".py",
   "mimetype": "text/x-python",
   "name": "python",
   "nbconvert_exporter": "python",
   "pygments_lexer": "ipython3",
   "version": "3.12.1"
  }
 },
 "nbformat": 4,
 "nbformat_minor": 2
}
