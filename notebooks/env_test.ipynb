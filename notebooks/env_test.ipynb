{
 "cells": [
  {
   "cell_type": "code",
   "execution_count": null,
   "metadata": {},
   "outputs": [],
   "source": [
    "# Imports\n",
    "import pandas as pd\n",
    "import rlcard\n",
    "\n",
    "from rlcard.agents import RandomAgent"
   ]
  },
  {
   "cell_type": "code",
   "execution_count": 3,
   "metadata": {},
   "outputs": [],
   "source": [
    "# Helper functions\n",
    "def blackjack_value(hand):\n",
    "    total = 0\n",
    "    ace_count = 0\n",
    "    \n",
    "    for card in hand:\n",
    "        rank = card[1:]  \n",
    "        \n",
    "        if rank == 'A':\n",
    "            total += 11\n",
    "            ace_count += 1\n",
    "        elif rank in {'J', 'Q', 'K', 'T', '10'}:\n",
    "            total += 10\n",
    "        elif rank.isdigit() and 2 <= int(rank) <= 9:\n",
    "            total += int(rank)\n",
    "    \n",
    "    while total > 21 and ace_count > 0:\n",
    "        total -= 10  \n",
    "        ace_count -= 1\n",
    "    \n",
    "    return total\n",
    "\n",
    "def color_strategy(val):\n",
    "    \"\"\"Return a CSS background-color depending on the action.\"\"\"\n",
    "    if val == \"S\":\n",
    "        return \"background-color: gold\"      # Stand color\n",
    "    elif val == \"H\":\n",
    "        return \"background-color: white\"     # Hit color\n",
    "    else:\n",
    "        return \"\"  # No styling by default"
   ]
  },
  {
   "cell_type": "code",
   "execution_count": 4,
   "metadata": {},
   "outputs": [],
   "source": [
    "# Results table\n",
    "results = {27: {2: [], 3: [], 4: [], 5: [], 6: [], 7: [], 8: [], 9: [], 10: [], 'A': []},\n",
    "           26: {2: [], 3: [], 4: [], 5: [], 6: [], 7: [], 8: [], 9: [], 10: [], 'A': []},\n",
    "           25: {2: [], 3: [], 4: [], 5: [], 6: [], 7: [], 8: [], 9: [], 10: [], 'A': []},\n",
    "           24: {2: [], 3: [], 4: [], 5: [], 6: [], 7: [], 8: [], 9: [], 10: [], 'A': []},\n",
    "           23: {2: [], 3: [], 4: [], 5: [], 6: [], 7: [], 8: [], 9: [], 10: [], 'A': []},\n",
    "           22: {2: [], 3: [], 4: [], 5: [], 6: [], 7: [], 8: [], 9: [], 10: [], 'A': []},\n",
    "           21: {2: [], 3: [], 4: [], 5: [], 6: [], 7: [], 8: [], 9: [], 10: [], 'A': []},\n",
    "           20: {2: [], 3: [], 4: [], 5: [], 6: [], 7: [], 8: [], 9: [], 10: [], 'A': []},\n",
    "           19: {2: [], 3: [], 4: [], 5: [], 6: [], 7: [], 8: [], 9: [], 10: [], 'A': []},\n",
    "           18: {2: [], 3: [], 4: [], 5: [], 6: [], 7: [], 8: [], 9: [], 10: [], 'A': []},\n",
    "           17: {2: [], 3: [], 4: [], 5: [], 6: [], 7: [], 8: [], 9: [], 10: [], 'A': []},\n",
    "           16: {2: [], 3: [], 4: [], 5: [], 6: [], 7: [], 8: [], 9: [], 10: [], 'A': []},\n",
    "           15: {2: [], 3: [], 4: [], 5: [], 6: [], 7: [], 8: [], 9: [], 10: [], 'A': []},\n",
    "           14: {2: [], 3: [], 4: [], 5: [], 6: [], 7: [], 8: [], 9: [], 10: [], 'A': []},\n",
    "           13: {2: [], 3: [], 4: [], 5: [], 6: [], 7: [], 8: [], 9: [], 10: [], 'A': []},\n",
    "           12: {2: [], 3: [], 4: [], 5: [], 6: [], 7: [], 8: [], 9: [], 10: [], 'A': []},\n",
    "           11: {2: [], 3: [], 4: [], 5: [], 6: [], 7: [], 8: [], 9: [], 10: [], 'A': []},\n",
    "           10: {2: [], 3: [], 4: [], 5: [], 6: [], 7: [], 8: [], 9: [], 10: [], 'A': []},\n",
    "            9: {2: [], 3: [], 4: [], 5: [], 6: [], 7: [], 8: [], 9: [], 10: [], 'A': []},\n",
    "            8: {2: [], 3: [], 4: [], 5: [], 6: [], 7: [], 8: [], 9: [], 10: [], 'A': []}}\n"
   ]
  },
  {
   "cell_type": "code",
   "execution_count": 5,
   "metadata": {},
   "outputs": [
    {
     "name": "stdout",
     "output_type": "stream",
     "text": [
      "Number of actions: 2\n",
      "Number of players: 1\n",
      "Shape of state: [[2]]\n",
      "Shape of action: [None]\n"
     ]
    }
   ],
   "source": [
    "# Init the env\n",
    "env = rlcard.make(\"blackjack\", config={\"seed\": 196})\n",
    "\n",
    "print(\"Number of actions:\", env.num_actions)\n",
    "print(\"Number of players:\", env.num_players)\n",
    "print(\"Shape of state:\", env.state_shape)\n",
    "print(\"Shape of action:\", env.action_shape)"
   ]
  },
  {
   "cell_type": "code",
   "execution_count": 6,
   "metadata": {},
   "outputs": [],
   "source": [
    "# Init the agent\n",
    "agent = RandomAgent(num_actions=env.num_actions)\n",
    "env.set_agents([agent])"
   ]
  },
  {
   "cell_type": "code",
   "execution_count": null,
   "metadata": {},
   "outputs": [],
   "source": [
    "# Playing the game and recording results\n",
    "for i in range(5000):\n",
    "    env = rlcard.make(\"blackjack\")\n",
    "    env.set_agents([agent])\n",
    "    trajectories, payoffs = env.run(is_training=False)\n",
    "\n",
    "    last_hand_value = 0\n",
    "    for i, situation in enumerate(trajectories[0][:-1]):\n",
    "        if (i % 2 == 0): # State\n",
    "            last_hand_value = int(trajectories[0][i]['obs'][0])\n",
    "            dealer_value = int(trajectories[0][i]['obs'][1]) \n",
    "            dealer_value = dealer_value if dealer_value <= 10 else 'A'\n",
    "        else: # Action\n",
    "            action = int(situation)\n",
    "            if last_hand_value >= 8 and last_hand_value <= 27:\n",
    "                results[last_hand_value][dealer_value].append(action)\n",
    "trajectories[0]"
   ]
  },
  {
   "cell_type": "code",
   "execution_count": 8,
   "metadata": {},
   "outputs": [],
   "source": [
    "# Convert lists into letters\n",
    "for row in results.items():\n",
    "    for key in row[1].keys():\n",
    "        row[1][key] = 'H' if round(sum(row[1][key]) / len(row[1][key])) == 0 else 'S'"
   ]
  },
  {
   "cell_type": "code",
   "execution_count": null,
   "metadata": {},
   "outputs": [],
   "source": [
    "# Visualize results\n",
    "df = pd.DataFrame.from_dict(results, orient='index')\n",
    "styled_df = df.style.map(color_strategy)\n",
    "styled_df"
   ]
  }
 ],
 "metadata": {
  "kernelspec": {
   "display_name": ".venv",
   "language": "python",
   "name": "python3"
  },
  "language_info": {
   "codemirror_mode": {
    "name": "ipython",
    "version": 3
   },
   "file_extension": ".py",
   "mimetype": "text/x-python",
   "name": "python",
   "nbconvert_exporter": "python",
   "pygments_lexer": "ipython3",
   "version": "3.12.1"
  }
 },
 "nbformat": 4,
 "nbformat_minor": 4
}
