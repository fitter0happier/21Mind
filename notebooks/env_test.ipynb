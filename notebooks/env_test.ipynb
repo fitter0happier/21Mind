{
 "cells": [
  {
   "cell_type": "code",
   "execution_count": 1,
   "metadata": {},
   "outputs": [],
   "source": [
    "# Imports\n",
    "import rlcard\n",
    "\n",
    "from rlcard.agents import RandomAgent\n",
    "from rlcard.utils import reorganize"
   ]
  },
  {
   "cell_type": "code",
   "execution_count": 2,
   "metadata": {},
   "outputs": [
    {
     "name": "stdout",
     "output_type": "stream",
     "text": [
      "Number of actions: 2\n",
      "Number of players: 1\n",
      "Shape of state: [[2]]\n",
      "Shape of action: [None]\n"
     ]
    }
   ],
   "source": [
    "# Init the env\n",
    "env = rlcard.make('blackjack')\n",
    "\n",
    "print(\"Number of actions:\", env.num_actions)\n",
    "print(\"Number of players:\", env.num_players)\n",
    "print(\"Shape of state:\", env.state_shape)\n",
    "print(\"Shape of action:\", env.action_shape)"
   ]
  },
  {
   "cell_type": "code",
   "execution_count": 3,
   "metadata": {},
   "outputs": [],
   "source": [
    "# Init the agent\n",
    "agent = RandomAgent(num_actions=env.num_actions)\n",
    "env.set_agents([agent])"
   ]
  },
  {
   "cell_type": "code",
   "execution_count": 4,
   "metadata": {},
   "outputs": [
    {
     "data": {
      "text/plain": [
       "{'obs': array([12,  6]),\n",
       " 'legal_actions': OrderedDict([(0, None), (1, None)]),\n",
       " 'raw_obs': {'actions': ('hit', 'stand'),\n",
       "  'player0 hand': ['H2', 'ST'],\n",
       "  'dealer hand': ['D6'],\n",
       "  'state': (['H2', 'ST'], ['D6'])},\n",
       " 'raw_legal_actions': ['hit', 'stand'],\n",
       " 'action_record': []}"
      ]
     },
     "execution_count": 4,
     "metadata": {},
     "output_type": "execute_result"
    }
   ],
   "source": [
    "# Start the game\n",
    "init_state, _ = env.reset()\n",
    "init_state"
   ]
  },
  {
   "cell_type": "code",
   "execution_count": 5,
   "metadata": {},
   "outputs": [
    {
     "name": "stdout",
     "output_type": "stream",
     "text": [
      "0 ({'obs': array([22, 17]), 'legal_actions': OrderedDict([(0, None), (1, None)]), 'raw_obs': {'player0 hand': ['H2', 'ST', 'SQ'], 'dealer hand': ['SJ', 'D6', 'SA'], 'actions': ('hit', 'stand'), 'state': (['H2', 'ST', 'SQ'], ['SJ', 'D6', 'SA'])}, 'raw_legal_actions': ['hit', 'stand'], 'action_record': [(0, 'hit')]}, 0) [-1]\n"
     ]
    }
   ],
   "source": [
    "# Playing the game\n",
    "state = init_state\n",
    "while not env.is_over():\n",
    "\taction, _ = agent.eval_step(init_state)\n",
    "\tstate = env.step(action)\n",
    "\tprint(action, state, env.get_payoffs())"
   ]
  }
 ],
 "metadata": {
  "kernelspec": {
   "display_name": ".venv",
   "language": "python",
   "name": "python3"
  },
  "language_info": {
   "codemirror_mode": {
    "name": "ipython",
    "version": 3
   },
   "file_extension": ".py",
   "mimetype": "text/x-python",
   "name": "python",
   "nbconvert_exporter": "python",
   "pygments_lexer": "ipython3",
   "version": "3.11.10"
  }
 },
 "nbformat": 4,
 "nbformat_minor": 2
}
