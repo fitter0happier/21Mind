{
 "cells": [
  {
   "cell_type": "code",
   "execution_count": 1,
   "metadata": {},
   "outputs": [],
   "source": [
    "# Imports\n",
    "import rlcard\n",
    "\n",
    "from rlcard.agents import RandomAgent\n",
    "from rlcard.utils import reorganize"
   ]
  },
  {
   "cell_type": "code",
   "execution_count": 2,
   "metadata": {},
   "outputs": [
    {
     "name": "stdout",
     "output_type": "stream",
     "text": [
      "Number of actions: 2\n",
      "Number of players: 1\n",
      "Shape of state: [[2]]\n",
      "Shape of action: [None]\n"
     ]
    }
   ],
   "source": [
    "# Init the env\n",
    "env = rlcard.make('blackjack')\n",
    "\n",
    "print(\"Number of actions:\", env.num_actions)\n",
    "print(\"Number of players:\", env.num_players)\n",
    "print(\"Shape of state:\", env.state_shape)\n",
    "print(\"Shape of action:\", env.action_shape)"
   ]
  },
  {
   "cell_type": "code",
   "execution_count": 3,
   "metadata": {},
   "outputs": [],
   "source": [
    "# Init the agent\n",
    "agent = RandomAgent(num_actions=env.num_actions)\n",
    "env.set_agents([agent])"
   ]
  },
  {
   "cell_type": "code",
   "execution_count": 4,
   "metadata": {},
   "outputs": [
    {
     "data": {
      "text/plain": [
       "{'obs': array([13,  4]),\n",
       " 'legal_actions': OrderedDict([(0, None), (1, None)]),\n",
       " 'raw_obs': {'actions': ('hit', 'stand'),\n",
       "  'player0 hand': ['C3', 'DJ'],\n",
       "  'dealer hand': ['D4'],\n",
       "  'state': (['C3', 'DJ'], ['D4'])},\n",
       " 'raw_legal_actions': ['hit', 'stand'],\n",
       " 'action_record': []}"
      ]
     },
     "execution_count": 4,
     "metadata": {},
     "output_type": "execute_result"
    }
   ],
   "source": [
    "# Start the game\n",
    "init_state, _ = env.reset()\n",
    "init_state"
   ]
  },
  {
   "cell_type": "code",
   "execution_count": null,
   "metadata": {},
   "outputs": [
    {
     "ename": "TypeError",
     "evalue": "Env.step() missing 1 required positional argument: 'action'",
     "output_type": "error",
     "traceback": [
      "\u001b[0;31m---------------------------------------------------------------------------\u001b[0m",
      "\u001b[0;31mTypeError\u001b[0m                                 Traceback (most recent call last)",
      "Cell \u001b[0;32mIn[16], line 3\u001b[0m\n\u001b[1;32m      1\u001b[0m i \u001b[38;5;241m=\u001b[39m \u001b[38;5;241m0\u001b[39m\n\u001b[1;32m      2\u001b[0m \u001b[38;5;28;01mwhile\u001b[39;00m i \u001b[38;5;241m!=\u001b[39m \u001b[38;5;241m10\u001b[39m:\n\u001b[0;32m----> 3\u001b[0m     trajectories, payoffs \u001b[38;5;241m=\u001b[39m \u001b[43menv\u001b[49m\u001b[38;5;241;43m.\u001b[39;49m\u001b[43mstep\u001b[49m\u001b[43m(\u001b[49m\u001b[43m)\u001b[49m\n\u001b[1;32m      4\u001b[0m     trajectories \u001b[38;5;241m=\u001b[39m reorganize(trajectories, payoffs)\n\u001b[1;32m      5\u001b[0m     \u001b[38;5;28mprint\u001b[39m(trajectories[\u001b[38;5;241m0\u001b[39m])\n",
      "\u001b[0;31mTypeError\u001b[0m: Env.step() missing 1 required positional argument: 'action'"
     ]
    }
   ],
   "source": [
    "# Playing the game\n",
    "i = 0\n",
    "state = init_state\n",
    "while i != 10:\n",
    "    action, _ = agent.eval_step(init_state)\n",
    "    i += 1"
   ]
  }
 ],
 "metadata": {
  "kernelspec": {
   "display_name": "21mind",
   "language": "python",
   "name": "python3"
  },
  "language_info": {
   "codemirror_mode": {
    "name": "ipython",
    "version": 3
   },
   "file_extension": ".py",
   "mimetype": "text/x-python",
   "name": "python",
   "nbconvert_exporter": "python",
   "pygments_lexer": "ipython3",
   "version": "3.11.11"
  }
 },
 "nbformat": 4,
 "nbformat_minor": 2
}
